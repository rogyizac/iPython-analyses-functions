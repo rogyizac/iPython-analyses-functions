{
 "cells": [
  {
   "cell_type": "markdown",
   "metadata": {
    "deletable": true,
    "editable": true
   },
   "source": [
    "<h1 style=\"font-size:42px; text-align:center; margin-bottom:30px;\">INTERACTIVE FORM FOR DATA ANALYSIS</h1>\n",
    "\n",
    "<h2 style=\"font-size:21px; text-align:center; margin-bottom:30px;\">Submitted by Shubham bansla & Rohan Isaac</h2>\n"
   ]
  },
  {
   "cell_type": "markdown",
   "metadata": {
    "deletable": true,
    "editable": true
   },
   "source": [
    "<hr>\n",
    "\n",
    "Welcome to the workbook for <span style=\"color:royalblue\">Exploratory Data Analysis Using User Interface</span>!\n",
    "\n",
    "Our goal with this step is to ** \"get to know\" ** the data in fast and easier way. \n",
    "Let's think about something.\n",
    "* When we see the data our first step is to identify the variable and type of variable, how you will do it if there are 100     \n",
    "  variable.\n",
    "* Think like that if you have to do univariate analysis and there are 50 variables, how much time it will take to do by doing by   taking each variable separately.\n",
    "* If you want to do Bivariate analysis, means comparing independent variable with the dependent variable how much time you will \n",
    "  take to do that.\n",
    "\n",
    "What if i tell you we will do all these things in **just one click**. Just click the button you will get all your result just in one folder and do the analysis in comparatively lesser time.\n",
    "\n",
    "<br><hr id=\"toc\">\n",
    "### In this workbook...\n",
    "\n",
    "1. Importing Package\n",
    "2. Function 1:- Form 1\n",
    "3. Function 2:- Form 2\n",
    "4. Advantages and Disadvantages\n",
    "5. Future Amendments\n",
    "\n",
    "### Assumptions\n",
    "Here are a few assumptions we take during making of this user inteerface:\n",
    "\n",
    "- This is only applicable for data which is \"cars\" and \"mtcars\"\n",
    "- Some categorical variables have numerical variable we took levels = 15\n",
    "- There will be no missing values in the data\n",
    "- User input should match the suggested input\n"
   ]
  },
  {
   "cell_type": "markdown",
   "metadata": {
    "deletable": true,
    "editable": true
   },
   "source": [
    "<br><hr style=\"border-color:royalblue;background-color:royalblue;height:1px;\">\n",
    "\n",
    "## <span style=\"color:RoyalBlue\">1. Importing Package ( )</span>\n",
    "### First, let's import the Package.\n",
    "\n",
    "This package is coded in other jyupter notebook which contain lot's of coding lines so its better to call that package and see how it's work."
   ]
  },
  {
   "cell_type": "code",
   "execution_count": 1,
   "metadata": {
    "collapsed": true,
    "deletable": true,
    "editable": true
   },
   "outputs": [],
   "source": [
    "# Code for importing the self-made package\n",
    "import Package as user"
   ]
  },
  {
   "cell_type": "markdown",
   "metadata": {
    "deletable": true,
    "editable": true
   },
   "source": [
    "<br><hr style=\"border-color:royalblue;background-color:royalblue;height:1px;\">"
   ]
  },
  {
   "cell_type": "markdown",
   "metadata": {
    "deletable": true,
    "editable": true
   },
   "source": [
    "## <span style=\"color:RoyalBlue\">2. Function 1:- Form1( )</span>\n",
    "   **Consider these points so that you will get familiar with this function.**\n",
    "* <code style=\"color:steelblue\">fuction form1()</code> is a basic version which will give you idea from the basic idea how we started.\n",
    "* This form will perform basic univariate analysis.\n",
    "* It contain four suggestions which will modify in second function of this workbook.\n",
    "* This form is just made for the evaluation pupose and it have very less function which are easy to understand.\n",
    "### 2.1 IMPORTANT POINTS:-\n",
    "\n",
    "    Befor you **Input** in the text Field please remember  these points otherwise you will face errors.\n",
    "    '\n",
    "    \n",
    "    \n",
    "\n",
    "- In reading the Data set section Directory name should be enter like C:\\users\\xyz without inverted commos.\n",
    "- In reading the Data set section File name should be enter like xyz.csv .\n",
    "- In creating folder section directory name should be enter like c:\\user\\xyz.\n",
    "- In creating folder section folder name shoulb be enter like xyz.\n",
    "\n",
    "  ### 2.2 Overview of the Form 1 interface:-\n",
    "This is form is bascially divided into two parts that is first one reading the file and second one is suggestions:\n",
    "\n",
    "- In reading section we are just taking name of directory and name of the data set from the user.\n",
    "- There are four basic suggetions in that which are as follows:\n",
    "  1. Suggestion no 1 :- We will first convert our data just by taking only the numerical variable from the data and print the graphs (only histogram and boxplot) for coloumns which are entered by the user.\n",
    "  2. Suggestion no 2 :- If user enter \"all\" it will print by default only the numerical variable graphs which are in the data set.\n",
    "  3. Suggestion no 3 :- User will press the button of respective graphs and it will print histograms and boxplot for numerical data and bar charts for categorical variable.\n",
    "  4. Suggestion no 4 :- In this user will create a folder where user wants to save its graphs and press the button by which type of graphs he wants to save in that folder.\n",
    " \n",
    "Let's start , please do the honor's by pressing shift + enter in the next tab\n"
   ]
  },
  {
   "cell_type": "code",
   "execution_count": 2,
   "metadata": {
    "collapsed": false,
    "deletable": true,
    "editable": true
   },
   "outputs": [
    {
     "name": "stdout",
     "output_type": "stream",
     "text": [
      "===============Exploratory Data Analysis ==================\n",
      "\n",
      "\n",
      "===============Reading The Data Set =======================\n"
     ]
    },
    {
     "data": {
      "application/vnd.jupyter.widget-view+json": {
       "model_id": "e5737566ee894d4a9ec789fee68fc1e3",
       "version_major": 2,
       "version_minor": 0
      },
      "text/plain": [
       "A Jupyter Widget"
      ]
     },
     "metadata": {},
     "output_type": "display_data"
    },
    {
     "data": {
      "application/vnd.jupyter.widget-view+json": {
       "model_id": "243ea2a7fd434c73a97ba21c0905e8df",
       "version_major": 2,
       "version_minor": 0
      },
      "text/plain": [
       "A Jupyter Widget"
      ]
     },
     "metadata": {},
     "output_type": "display_data"
    },
    {
     "data": {
      "application/vnd.jupyter.widget-view+json": {
       "model_id": "6844a696680d49f3b7692c46899b1696",
       "version_major": 2,
       "version_minor": 0
      },
      "text/plain": [
       "A Jupyter Widget"
      ]
     },
     "metadata": {},
     "output_type": "display_data"
    },
    {
     "name": "stdout",
     "output_type": "stream",
     "text": [
      "===============Suggestion No. 1=============================\n",
      "Press convert to convert your data into numerical data.\n",
      "\n"
     ]
    },
    {
     "data": {
      "application/vnd.jupyter.widget-view+json": {
       "model_id": "ddd6cc881e31403b8bde6da420fbe01d",
       "version_major": 2,
       "version_minor": 0
      },
      "text/plain": [
       "A Jupyter Widget"
      ]
     },
     "metadata": {},
     "output_type": "display_data"
    },
    {
     "name": "stdout",
     "output_type": "stream",
     "text": [
      "Enter the columns you want to analyse.\n"
     ]
    },
    {
     "data": {
      "application/vnd.jupyter.widget-view+json": {
       "model_id": "8fae3fadf3384c57899290be44008c14",
       "version_major": 2,
       "version_minor": 0
      },
      "text/plain": [
       "A Jupyter Widget"
      ]
     },
     "metadata": {},
     "output_type": "display_data"
    },
    {
     "data": {
      "application/vnd.jupyter.widget-view+json": {
       "model_id": "431ae85861944d62ae9dd8a2e422f1b1",
       "version_major": 2,
       "version_minor": 0
      },
      "text/plain": [
       "A Jupyter Widget"
      ]
     },
     "metadata": {},
     "output_type": "display_data"
    },
    {
     "name": "stdout",
     "output_type": "stream",
     "text": [
      "===============Suggestion No. 2=============================\n",
      "This suggestion takes only the numerical variable when the user don't enter any coloumn.\n"
     ]
    },
    {
     "data": {
      "application/vnd.jupyter.widget-view+json": {
       "model_id": "8cb57595adea4d68a468caffe12d8e57",
       "version_major": 2,
       "version_minor": 0
      },
      "text/plain": [
       "A Jupyter Widget"
      ]
     },
     "metadata": {},
     "output_type": "display_data"
    },
    {
     "name": "stdout",
     "output_type": "stream",
     "text": [
      "Press the graph button for output.\n"
     ]
    },
    {
     "data": {
      "application/vnd.jupyter.widget-view+json": {
       "model_id": "510ead4700ae47f697856f0d854d8ef5",
       "version_major": 2,
       "version_minor": 0
      },
      "text/plain": [
       "A Jupyter Widget"
      ]
     },
     "metadata": {},
     "output_type": "display_data"
    },
    {
     "name": "stdout",
     "output_type": "stream",
     "text": [
      "===============Suggestion No. 3=============================\n",
      "This suggestion takes the whole data and create graphs for every variable depending upon their types.\n",
      "\n",
      "For numerical variable print : Histogram and Boxplot\n",
      "For categorical variable print : Bar Chart\n",
      "\n"
     ]
    },
    {
     "data": {
      "application/vnd.jupyter.widget-view+json": {
       "model_id": "37ce464d05204da6988fbad6488d72b5",
       "version_major": 2,
       "version_minor": 0
      },
      "text/plain": [
       "A Jupyter Widget"
      ]
     },
     "metadata": {},
     "output_type": "display_data"
    },
    {
     "name": "stdout",
     "output_type": "stream",
     "text": [
      "===============Suggestion No. 4=============================\n",
      "Select the directory where you want to save your Plots.\n"
     ]
    },
    {
     "data": {
      "application/vnd.jupyter.widget-view+json": {
       "model_id": "a5a506f3262648a7b41410364047c60e",
       "version_major": 2,
       "version_minor": 0
      },
      "text/plain": [
       "A Jupyter Widget"
      ]
     },
     "metadata": {},
     "output_type": "display_data"
    },
    {
     "name": "stdout",
     "output_type": "stream",
     "text": [
      "Name the folder in which you want to save your work.\n"
     ]
    },
    {
     "data": {
      "application/vnd.jupyter.widget-view+json": {
       "model_id": "3fad46d3f31443bc9c5e3e760d7f1bb7",
       "version_major": 2,
       "version_minor": 0
      },
      "text/plain": [
       "A Jupyter Widget"
      ]
     },
     "metadata": {},
     "output_type": "display_data"
    },
    {
     "name": "stdout",
     "output_type": "stream",
     "text": [
      "Press the create button to create a folder in your given directory.\n"
     ]
    },
    {
     "data": {
      "application/vnd.jupyter.widget-view+json": {
       "model_id": "fa22fa28b7da4221a94fcd8f1355ea5e",
       "version_major": 2,
       "version_minor": 0
      },
      "text/plain": [
       "A Jupyter Widget"
      ]
     },
     "metadata": {},
     "output_type": "display_data"
    },
    {
     "name": "stdout",
     "output_type": "stream",
     "text": [
      "Press the button in which form you want to save your file : \n"
     ]
    },
    {
     "data": {
      "application/vnd.jupyter.widget-view+json": {
       "model_id": "885bf69dfd8e4c6da2a483c3d2613f26",
       "version_major": 2,
       "version_minor": 0
      },
      "text/plain": [
       "A Jupyter Widget"
      ]
     },
     "metadata": {},
     "output_type": "display_data"
    }
   ],
   "source": [
    "user.form1()"
   ]
  },
  {
   "cell_type": "markdown",
   "metadata": {
    "deletable": true,
    "editable": true
   },
   "source": [
    "## <span style=\"color:RoyalBlue\">3. Function 2:- Form2( )</span>\n",
    "**Consider these points so that you will get familiar with this function.**\n",
    "* <code style=\"color:steelblue\">fuction from2()</code> is a advance version which will give you ease of doing the univariate analysis.\n",
    "* This form will also perform basic univariate analysis just two steps ahead.\n",
    "* This form is made by merging all the suggestion which are given previously and adding more suggestion in it..\n",
    "### 3.1 IMPORTANT POINTS:-\n",
    "\n",
    "    Befor you **Input** in the text Field please remember  these points otherwise you will face errors.\n",
    "    '\n",
    "    \n",
    "    \n",
    "\n",
    "- In reading the Data set section Directory name should be enter like C:\\\\users\\\\xyz without inverted commos.\n",
    "- In reading the Data set section File name should be enter like xyz.csv.\n",
    "- In creating folder section directory name should be enter like c:\\user\\xyz.\n",
    "- In creating folder section folder name shoulb be enter like xyz.\n",
    "\n",
    "  ### 3.2 Overview of the Form 2 interface:-\n",
    "This is form is bascially divided into six parts that which are as follows\n",
    "\n",
    "- Part 1:- Reading the data set, in this part we are taking input from the user and read its data set.\n",
    "- Part 2:- Creating the folder in the given directory, in this by clicking button we create a new folder in that given directory specified by the user.\n",
    "- Part 3:- Printing the graphs, this section contains four option if someone wants only bar graphs or histogram or bar charts he will choose otherwise just click on all and it will automatically create a folder of each type of charts and will store the graphs.\n",
    "- Part 4:- Measures of the central tendency , we use mean and median for now to measure the central tendency by using mean and median method.\n",
    "- Part 5:- Obtaining the Scatter Matrix,by just clicking the single button you will get scatter matrix plot in the output section.\n",
    "- Part 6:- Obtaining the Heat Map, we also introduced seaborn package for creating and analysing correlation more deeply.\n",
    "\n",
    "\n",
    "\n",
    " \n",
    "Let's start , please do the honor's by pressing shift + enter in the next tab\n"
   ]
  },
  {
   "cell_type": "code",
   "execution_count": 3,
   "metadata": {
    "collapsed": false,
    "deletable": true,
    "editable": true
   },
   "outputs": [
    {
     "name": "stdout",
     "output_type": "stream",
     "text": [
      "===============Exploratory Data Analysis ==================\n",
      "\n",
      "\n",
      "===============Reading The Data Set =======================\n",
      "Enter the directory where you data set is present in the format eg.C:\\Users\\shubh\\Desktop .\n"
     ]
    },
    {
     "data": {
      "application/vnd.jupyter.widget-view+json": {
       "model_id": "d00714f064394c48ad212e5d7ad92acb",
       "version_major": 2,
       "version_minor": 0
      },
      "text/plain": [
       "A Jupyter Widget"
      ]
     },
     "metadata": {},
     "output_type": "display_data"
    },
    {
     "name": "stdout",
     "output_type": "stream",
     "text": [
      "Enter the name of the data set in the format eg. \\xyz.csv\n"
     ]
    },
    {
     "data": {
      "application/vnd.jupyter.widget-view+json": {
       "model_id": "c8158032a83c4468b13366bc0cfebd2d",
       "version_major": 2,
       "version_minor": 0
      },
      "text/plain": [
       "A Jupyter Widget"
      ]
     },
     "metadata": {},
     "output_type": "display_data"
    },
    {
     "data": {
      "application/vnd.jupyter.widget-view+json": {
       "model_id": "16a68a7c24b14d799197c3d4fc9acac6",
       "version_major": 2,
       "version_minor": 0
      },
      "text/plain": [
       "A Jupyter Widget"
      ]
     },
     "metadata": {},
     "output_type": "display_data"
    },
    {
     "name": "stdout",
     "output_type": "stream",
     "text": [
      "Select the directory where you want to save your Plots.\n"
     ]
    },
    {
     "data": {
      "application/vnd.jupyter.widget-view+json": {
       "model_id": "527ba3eb1dce4b9386ac59d3d3119672",
       "version_major": 2,
       "version_minor": 0
      },
      "text/plain": [
       "A Jupyter Widget"
      ]
     },
     "metadata": {},
     "output_type": "display_data"
    },
    {
     "name": "stdout",
     "output_type": "stream",
     "text": [
      "Name the folder in which you want to save your work.\n"
     ]
    },
    {
     "data": {
      "application/vnd.jupyter.widget-view+json": {
       "model_id": "c9b3dc0172d34383afc73b82ce856c08",
       "version_major": 2,
       "version_minor": 0
      },
      "text/plain": [
       "A Jupyter Widget"
      ]
     },
     "metadata": {},
     "output_type": "display_data"
    },
    {
     "name": "stdout",
     "output_type": "stream",
     "text": [
      "Press the create button to create a folder in your given directory.\n"
     ]
    },
    {
     "data": {
      "application/vnd.jupyter.widget-view+json": {
       "model_id": "d585bc5fb695457a945b49064f408751",
       "version_major": 2,
       "version_minor": 0
      },
      "text/plain": [
       "A Jupyter Widget"
      ]
     },
     "metadata": {},
     "output_type": "display_data"
    },
    {
     "name": "stdout",
     "output_type": "stream",
     "text": [
      "\n",
      "===============Printing The Graphs =======================\n"
     ]
    },
    {
     "data": {
      "application/vnd.jupyter.widget-view+json": {
       "model_id": "c05e9b773ce6489cb98f6f2d2674311b",
       "version_major": 2,
       "version_minor": 0
      },
      "text/plain": [
       "A Jupyter Widget"
      ]
     },
     "metadata": {},
     "output_type": "display_data"
    },
    {
     "name": "stdout",
     "output_type": "stream",
     "text": [
      "Press the button in which form you want to save your file : \n"
     ]
    },
    {
     "data": {
      "application/vnd.jupyter.widget-view+json": {
       "model_id": "5eaccd083bc94890b7f00515c51054ae",
       "version_major": 2,
       "version_minor": 0
      },
      "text/plain": [
       "A Jupyter Widget"
      ]
     },
     "metadata": {},
     "output_type": "display_data"
    },
    {
     "name": "stdout",
     "output_type": "stream",
     "text": [
      "=============== Measures of Central Tendency =======================\n",
      "Enter the coloumn which you want to calculate measure of central tendency.\n"
     ]
    },
    {
     "data": {
      "application/vnd.jupyter.widget-view+json": {
       "model_id": "e9cae469a0e44fa2881463e5ed86adb7",
       "version_major": 2,
       "version_minor": 0
      },
      "text/plain": [
       "A Jupyter Widget"
      ]
     },
     "metadata": {},
     "output_type": "display_data"
    },
    {
     "data": {
      "application/vnd.jupyter.widget-view+json": {
       "model_id": "ac7ac50ef771450cac276d4ad74ca05d",
       "version_major": 2,
       "version_minor": 0
      },
      "text/plain": [
       "A Jupyter Widget"
      ]
     },
     "metadata": {},
     "output_type": "display_data"
    },
    {
     "name": "stdout",
     "output_type": "stream",
     "text": [
      "=================== Obtaining the Scatter Matrix =======================\n",
      "Press button to obtain Scatter Matrix.\n"
     ]
    },
    {
     "data": {
      "application/vnd.jupyter.widget-view+json": {
       "model_id": "91e1e4fac5154cc19b4a0482794e2d28",
       "version_major": 2,
       "version_minor": 0
      },
      "text/plain": [
       "A Jupyter Widget"
      ]
     },
     "metadata": {},
     "output_type": "display_data"
    },
    {
     "name": "stdout",
     "output_type": "stream",
     "text": [
      "==================== Obtaining the Heatmap ============================\n",
      "\n",
      "Press button to obtain the Heat Map.\n"
     ]
    },
    {
     "data": {
      "application/vnd.jupyter.widget-view+json": {
       "model_id": "89ba12b3d8b3471dbeada2a516192176",
       "version_major": 2,
       "version_minor": 0
      },
      "text/plain": [
       "A Jupyter Widget"
      ]
     },
     "metadata": {},
     "output_type": "display_data"
    }
   ],
   "source": [
    "user.form2()"
   ]
  },
  {
   "cell_type": "markdown",
   "metadata": {
    "collapsed": true,
    "deletable": true,
    "editable": true
   },
   "source": [
    "## <span style=\"color:RoyalBlue\">4. Advantages and Disadvantages of using this type method for univariate analysis( )</span>\n",
    "\n",
    "#### 4.1 Advatages:-\n",
    "    1. Easy to understand and fast to obtain the output.\n",
    "    2. No need to run the code again and again.\n",
    "    3. Can take any combination of graphs by just clicking buttons.\n",
    "    4. Data can be gathered easily.\n",
    "#### 4.1 Diadvantages:-\n",
    "    1. We can't set levels for the categorical values.\n",
    "    2. Limited to univariate analysis.\n",
    "    3. Complex coding behind every button specified in the user interface.\n",
    "    4. Pre-defined input methods."
   ]
  },
  {
   "cell_type": "markdown",
   "metadata": {
    "deletable": true,
    "editable": true
   },
   "source": [
    "## <span style=\"color:RoyalBlue\">5. Future Amendments in Interface</span>\n",
    "\n",
    "  We will add some features in the user interface form in future which are follows:\n",
    "    1. We will add the text area with the buttons so that output will be seen just besides that not at the botton.\n",
    "    2. Using more ipyhton widegts like dropdown from where we select a particular button instead of creating separate button.\n",
    "    3. We can add separation for bivariate analysis where we compare the target variable with regressore variables.\n",
    "    4. Missing value imputation can be done by searching the missing value and imputed.\n",
    "    5. More types of plots and graphs can be added like q-q plot, pie-charts etc.\n",
    "    6. We will add button's for implementing various types of model."
   ]
  }
 ],
 "metadata": {
  "kernelspec": {
   "display_name": "Python 3",
   "language": "python",
   "name": "python3"
  },
  "language_info": {
   "codemirror_mode": {
    "name": "ipython",
    "version": 3
   },
   "file_extension": ".py",
   "mimetype": "text/x-python",
   "name": "python",
   "nbconvert_exporter": "python",
   "pygments_lexer": "ipython3",
   "version": "3.6.3"
  }
 },
 "nbformat": 4,
 "nbformat_minor": 2
}
